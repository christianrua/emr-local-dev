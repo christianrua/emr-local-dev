{
 "cells": [
  {
   "cell_type": "code",
   "execution_count": 1,
   "metadata": {},
   "outputs": [],
   "source": [
    "%load_ext dotenv\n",
    "%dotenv"
   ]
  },
  {
   "cell_type": "code",
   "execution_count": 2,
   "metadata": {},
   "outputs": [
    {
     "name": "stderr",
     "output_type": "stream",
     "text": [
      "SLF4J: Class path contains multiple SLF4J bindings.\n",
      "SLF4J: Found binding in [jar:file:/usr/share/aws/emr/emrfs/lib/slf4j-log4j12-1.7.12.jar!/org/slf4j/impl/StaticLoggerBinder.class]\n",
      "SLF4J: Found binding in [jar:file:/usr/lib/spark/jars/slf4j-log4j12-1.7.30.jar!/org/slf4j/impl/StaticLoggerBinder.class]\n",
      "SLF4J: See http://www.slf4j.org/codes.html#multiple_bindings for an explanation.\n",
      "SLF4J: Actual binding is of type [org.slf4j.impl.Log4jLoggerFactory]\n",
      "[Stage 0:>                                                          (0 + 1) / 1]\r"
     ]
    },
    {
     "name": "stdout",
     "output_type": "stream",
     "text": [
      "+-------+-----------------+-----------------+------------------+\n",
      "|summary|    trip_duration|    trip_distance|      total_amount|\n",
      "+-------+-----------------+-----------------+------------------+\n",
      "|  count|            20000|            20000|             20000|\n",
      "|   mean|          1602.87|3.301526999999994| 15.86084999999584|\n",
      "| stddev|8265.798653153171|3.194486083134158|11.168999261559875|\n",
      "|    min|                0|              0.0|             -60.0|\n",
      "|    25%|              360|              1.2|              8.75|\n",
      "|    50%|              660|             2.23|             12.36|\n",
      "|    75%|             1020|              4.3|              19.8|\n",
      "|    max|            86400|             46.0|             240.0|\n",
      "+-------+-----------------+-----------------+------------------+\n",
      "\n"
     ]
    },
    {
     "name": "stderr",
     "output_type": "stream",
     "text": [
      "                                                                                \r"
     ]
    }
   ],
   "source": [
    "from pyspark.sql import SparkSession\n",
    "from pyspark.sql.functions import col\n",
    "\n",
    "spark = SparkSession.builder.appName(\"Trip Data\").master(\"local[*]\").getOrCreate()\n",
    "spark.sparkContext.setLogLevel(\"FATAL\")\n",
    "\n",
    "dbname = \"tripdata\"\n",
    "tblname = \"ny_taxi\"\n",
    "ny_taxi = spark.sql(f'SELECT * FROM {dbname}.{tblname}')\n",
    "ny_taxi = ny_taxi.withColumn('trip_duration', col('lpep_dropoff_datetime').cast('long') - col('lpep_pickup_datetime').cast('long'))\n",
    "ny_taxi.select('trip_duration', 'trip_distance', 'total_amount').summary().show()"
   ]
  },
  {
   "cell_type": "code",
   "execution_count": 3,
   "metadata": {},
   "outputs": [
    {
     "name": "stderr",
     "output_type": "stream",
     "text": [
      "                                                                                \r"
     ]
    },
    {
     "data": {
      "text/plain": [
       "50"
      ]
     },
     "execution_count": 3,
     "metadata": {},
     "output_type": "execute_result"
    }
   ],
   "source": [
    "ny_taxi.filter(col('total_amount') < 0).select('total_amount').count()"
   ]
  }
 ],
 "metadata": {
  "interpreter": {
   "hash": "31f2aee4e71d21fbe5cf8b01ff0e069b9275f58929596ceb00d14d90e3e16cd6"
  },
  "kernelspec": {
   "display_name": "Python 3.7.10 64-bit",
   "language": "python",
   "name": "python3"
  },
  "language_info": {
   "codemirror_mode": {
    "name": "ipython",
    "version": 3
   },
   "file_extension": ".py",
   "mimetype": "text/x-python",
   "name": "python",
   "nbconvert_exporter": "python",
   "pygments_lexer": "ipython3",
   "version": "3.7.10"
  },
  "orig_nbformat": 4
 },
 "nbformat": 4,
 "nbformat_minor": 2
}
